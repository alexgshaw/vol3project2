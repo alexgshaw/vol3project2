{
  "nbformat": 4,
  "nbformat_minor": 0,
  "metadata": {
    "colab": {
      "name": "data_cleaning",
      "provenance": [],
      "collapsed_sections": [],
      "mount_file_id": "1C079VyRTE7cf7dNx2iRg9gVQ-hxYpS5d",
      "authorship_tag": "ABX9TyM54BhbG88lD5TL6syHV8Mn",
      "include_colab_link": true
    },
    "kernelspec": {
      "name": "python3",
      "display_name": "Python 3"
    },
    "language_info": {
      "name": "python"
    }
  },
  "cells": [
    {
      "cell_type": "markdown",
      "metadata": {
        "id": "view-in-github",
        "colab_type": "text"
      },
      "source": [
        "<a href=\"https://colab.research.google.com/github/alexgshaw/vol3project2/blob/main/data_cleaning.ipynb\" target=\"_parent\"><img src=\"https://colab.research.google.com/assets/colab-badge.svg\" alt=\"Open In Colab\"/></a>"
      ]
    },
    {
      "cell_type": "code",
      "metadata": {
        "colab": {
          "base_uri": "https://localhost:8080/"
        },
        "id": "ofc-xOXTVvdY",
        "outputId": "2b4d4b89-5c4d-4983-95bc-091d11ebb6a0"
      },
      "source": [
        "%cd drive/MyDrive/Volume\\ 3\\ Project\\ \\(1\\)"
      ],
      "execution_count": 49,
      "outputs": [
        {
          "output_type": "stream",
          "text": [
            "[Errno 2] No such file or directory: 'drive/MyDrive/Volume 3 Project (1)'\n",
            "/content/drive/.shortcut-targets-by-id/1qfjYewcGi6r6KzbTtRd8TgzGWg2JP76j/Volume 3 Project\n"
          ],
          "name": "stdout"
        }
      ]
    },
    {
      "cell_type": "code",
      "metadata": {
        "id": "bLvJgjJGT6hi"
      },
      "source": [
        "import numpy as np\n",
        "import pandas as pd\n",
        "from matplotlib import pyplot as plt, rcParams"
      ],
      "execution_count": 50,
      "outputs": []
    },
    {
      "cell_type": "code",
      "metadata": {
        "id": "sAwx-DEBURSL"
      },
      "source": [
        "rcParams['figure.figsize'] = (8,5)\n",
        "rcParams['figure.dpi'] = 100"
      ],
      "execution_count": 51,
      "outputs": []
    },
    {
      "cell_type": "code",
      "metadata": {
        "id": "8sxpIwO6ViFU"
      },
      "source": [
        "# Read in our file of lyrics (all songs from the hymn book)\n",
        "filename = 'lyrics.txt'\n",
        "with open(filename) as file:\n",
        "    lyrics = file.read().split()"
      ],
      "execution_count": 58,
      "outputs": []
    },
    {
      "cell_type": "code",
      "metadata": {
        "id": "dpH6lkCHoZW1"
      },
      "source": [
        "# Make all strings lowercase\n",
        "lyrics = [lyric.lower() for lyric in lyrics]"
      ],
      "execution_count": 59,
      "outputs": []
    },
    {
      "cell_type": "code",
      "metadata": {
        "id": "1ie3TnvlVtq7"
      },
      "source": [
        "# Get rid of all the empty strings\n",
        "not_empty = lambda x: len(x) != 0\n",
        "lyrics = list(filter(not_empty, lyrics))\n",
        "\n",
        "# Replace '1.' with end of song word\n",
        "end_of_song = 'END'\n",
        "lyrics = [lyric if lyric != '1.' else end_of_song for lyric in lyrics]\n",
        "lyrics = lyrics[1:]\n",
        "lyrics.append(end_of_song)\n",
        "\n",
        "# Strip out all the verse numbers\n",
        "not_verse_num = lambda x: not (x[0].isnumeric() and x.endswith('.'))\n",
        "lyrics = list(filter(not_verse_num, lyrics))"
      ],
      "execution_count": 60,
      "outputs": []
    },
    {
      "cell_type": "code",
      "metadata": {
        "id": "OHj-Y6eFWEvO"
      },
      "source": [
        "# Replace all periods with a stop word\n",
        "period = 'PERIOD'\n",
        "exclamation = 'EXCLAMATION'\n",
        "question = 'QUESTION'\n",
        "semi_colon = 'SEMI'\n",
        "\n",
        "stop_lyrics = []\n",
        "\n",
        "for lyric in lyrics:\n",
        "    if lyric.endswith('.'):\n",
        "        lyric = lyric.replace('.', '')\n",
        "        stop_lyrics.append(lyric)\n",
        "        stop_lyrics.append(period)\n",
        "    elif lyric.endswith(';'):\n",
        "        lyric = lyric.replace(';', '')\n",
        "        stop_lyrics.append(lyric)\n",
        "        stop_lyrics.append(semi_colon)\n",
        "    elif lyric.endswith('!'):\n",
        "        lyric = lyric.replace('!', '')\n",
        "        stop_lyrics.append(lyric)\n",
        "        stop_lyrics.append(exclamation)\n",
        "    elif lyric.endswith('?'):\n",
        "        lyric = lyric.replace('?', '')\n",
        "        stop_lyrics.append(lyric)\n",
        "        stop_lyrics.append(question)\n",
        "    else:\n",
        "        stop_lyrics.append(lyric)\n",
        "\n",
        "lyrics = stop_lyrics"
      ],
      "execution_count": 64,
      "outputs": []
    },
    {
      "cell_type": "code",
      "metadata": {
        "id": "qDmASmX6X8S7"
      },
      "source": [
        "def process_lyric(lyric):\n",
        "    \"\"\"Gets rid of punctuation and non-latin characters.\"\"\"\n",
        "    apostrophe = 'â\\x80\\x99'\n",
        "    lyric = lyric.replace(apostrophe, '')\n",
        "    lyric = ''.join([char for char in lyric if char.isalpha()])\n",
        "\n",
        "    return lyric"
      ],
      "execution_count": 65,
      "outputs": []
    },
    {
      "cell_type": "code",
      "metadata": {
        "id": "LiDz5C70aRb4"
      },
      "source": [
        "# Get rid of punctuation and non-latin characters\n",
        "lyrics = list(map(process_lyric, lyrics))"
      ],
      "execution_count": 66,
      "outputs": []
    },
    {
      "cell_type": "code",
      "metadata": {
        "id": "F7VTfuq1cfnv"
      },
      "source": [
        "filename = 'clean_lyrics.txt'\n",
        "with open(filename, 'w') as file:\n",
        "    for lyric in lyrics:\n",
        "        lyric += '\\n'\n",
        "        file.write(lyric)"
      ],
      "execution_count": 68,
      "outputs": []
    }
  ]
}