{
  "nbformat": 4,
  "nbformat_minor": 0,
  "metadata": {
    "colab": {
      "name": "markov_text.ipynb",
      "provenance": [],
      "collapsed_sections": [],
      "mount_file_id": "1GNGiwylkDt_qPrYi97MyLeaHgFvD9XFb",
      "authorship_tag": "ABX9TyN7yjnlrXRfmtJSXUdhyIJI",
      "include_colab_link": true
    },
    "kernelspec": {
      "name": "python3",
      "display_name": "Python 3"
    },
    "language_info": {
      "name": "python"
    }
  },
  "cells": [
    {
      "cell_type": "markdown",
      "metadata": {
        "id": "view-in-github",
        "colab_type": "text"
      },
      "source": [
        "<a href=\"https://colab.research.google.com/github/alexgshaw/vol3project2/blob/main/markov_text.ipynb\" target=\"_parent\"><img src=\"https://colab.research.google.com/assets/colab-badge.svg\" alt=\"Open In Colab\"/></a>"
      ]
    },
    {
      "cell_type": "code",
      "metadata": {
        "colab": {
          "base_uri": "https://localhost:8080/"
        },
        "id": "gs1A-jop1zyT",
        "outputId": "5b818714-d053-4cd2-df57-19be7a08a53d"
      },
      "source": [
        "%cd drive/MyDrive/Volume\\ 3\\ Project\\"
      ],
      "execution_count": 17,
      "outputs": [
        {
          "output_type": "stream",
          "text": [
            "/content/drive/.shortcut-targets-by-id/1qfjYewcGi6r6KzbTtRd8TgzGWg2JP76j/Volume 3 Project\n"
          ],
          "name": "stdout"
        }
      ]
    },
    {
      "cell_type": "code",
      "metadata": {
        "id": "yjDIEFWOxJhi"
      },
      "source": [
        "import numpy as np\n",
        "import pandas as pd\n",
        "from matplotlib import pyplot as plt, rcParams"
      ],
      "execution_count": 18,
      "outputs": []
    },
    {
      "cell_type": "code",
      "metadata": {
        "id": "iZlR95L2yqZS"
      },
      "source": [
        "rcParams['figure.figsize'] = (8,5)\n",
        "rcParams['figure.dpi'] = 100"
      ],
      "execution_count": 19,
      "outputs": []
    },
    {
      "cell_type": "code",
      "metadata": {
        "id": "b1hDGSWXysjq"
      },
      "source": [
        "filename = 'clean_lyrics.txt'\n",
        "with open(filename) as file:\n",
        "    lyrics = file.read().split()"
      ],
      "execution_count": 22,
      "outputs": []
    },
    {
      "cell_type": "code",
      "metadata": {
        "id": "Ne9OWAIq2loB"
      },
      "source": [
        "pairs = list(zip(lyrics[:-1], lyrics[1:]))"
      ],
      "execution_count": 25,
      "outputs": []
    },
    {
      "cell_type": "code",
      "metadata": {
        "id": "TVcixIcZ2zAp"
      },
      "source": [
        "word_dict = {}\n",
        "for word1, word2 in pairs:\n",
        "    if word1 in word_dict.keys():\n",
        "        word_dict[word1].append(word2)\n",
        "    else:\n",
        "        word_dict[word1] = [word2]"
      ],
      "execution_count": 27,
      "outputs": []
    },
    {
      "cell_type": "code",
      "metadata": {
        "colab": {
          "base_uri": "https://localhost:8080/",
          "height": 35
        },
        "id": "KbYuz03a33h2",
        "outputId": "962fc11a-21c9-453a-de3d-f3dc8be14dfe"
      },
      "source": [
        "# Find all potential start words and pick a random one\n",
        "start_words = [word2 for word1, word2 in pairs if word1 == 'END']\n",
        "start_words.insert(0, lyrics[0])\n",
        "start_word = np.random.choice(start_words)\n",
        "start_word"
      ],
      "execution_count": 33,
      "outputs": [
        {
          "output_type": "execute_result",
          "data": {
            "application/vnd.google.colaboratory.intrinsic+json": {
              "type": "string"
            },
            "text/plain": [
              "'zion'"
            ]
          },
          "metadata": {
            "tags": []
          },
          "execution_count": 33
        }
      ]
    },
    {
      "cell_type": "code",
      "metadata": {
        "id": "1DuQTRY13-z3"
      },
      "source": [
        "stop_words = {\n",
        "    'PERIOD': '.',\n",
        "    'EXCLAMATION': '!',\n",
        "    'QUESTION': '?',\n",
        "    'SEMI': ';',\n",
        "    'END': '',\n",
        "}\n",
        "\n",
        "def generate_text(start_word):\n",
        "    \"\"\"Generates text.\"\"\"\n",
        "    sentence = [start_word]\n",
        "    word = start_word\n",
        "    while True:\n",
        "        word = np.random.choice(word_dict[word])\n",
        "        if word in stop_words:\n",
        "            sentence.append(stop_words[word])\n",
        "            if word == 'END':\n",
        "                break\n",
        "        else:\n",
        "            sentence.append(' ' + word)\n",
        "\n",
        "\n",
        "    return ''.join(sentence)"
      ],
      "execution_count": 44,
      "outputs": []
    },
    {
      "cell_type": "code",
      "metadata": {
        "colab": {
          "base_uri": "https://localhost:8080/",
          "height": 171
        },
        "id": "XaMzobTB5ZMv",
        "outputId": "5e67f9c3-7cf6-4624-a7cc-f37c4af9f7f5"
      },
      "source": [
        "start_word = np.random.choice(start_words)\n",
        "generate_text(start_word)"
      ],
      "execution_count": 45,
      "outputs": [
        {
          "output_type": "execute_result",
          "data": {
            "application/vnd.google.colaboratory.intrinsic+json": {
              "type": "string"
            },
            "text/plain": [
              "'nay. come to thee. before thee fill my heart shall extol thee now the past years furrow thy face the welcome to god above the love that the way. let all to gods full. in others with reasons tower makes our song shall lie down to man no never no more savior own the blest. for a mote; its glories loud from bondage break my wants supply. may my soul where nothing great redeemer let our one in latter gospel plan to serve the savior dear and his love. dearest lord i shall hear the gospel? rise to serve the earths history. thy will come then well have received to set amid the lord of darkness; shall again repeated god is the heavens light we worship jesus died for guidance to each contrite heart and knowing not been said a bound to us seek thy ways aright our lord for the knee christ the word theres love and bowed at last to thy church has anyones burden upon the precious is righteousness bring; let the truth and seek a slave of pearly white; oh say. still he spoke lo! holy angel earthward bound. increase. tho dim; let all parents too. in trial more. as i draw the valiant children of the right! god and his praise his precious blood; with us the advancing years. he will be when the spirits divinest tuition can stay'"
            ]
          },
          "metadata": {
            "tags": []
          },
          "execution_count": 45
        }
      ]
    }
  ]
}