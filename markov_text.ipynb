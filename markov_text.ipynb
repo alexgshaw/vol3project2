{
  "nbformat": 4,
  "nbformat_minor": 0,
  "metadata": {
    "colab": {
      "name": "markov_text.ipynb",
      "provenance": [],
      "collapsed_sections": [],
      "mount_file_id": "1GNGiwylkDt_qPrYi97MyLeaHgFvD9XFb",
      "authorship_tag": "ABX9TyMJRM1chpD6aW060jtNby6d",
      "include_colab_link": true
    },
    "kernelspec": {
      "name": "python3",
      "display_name": "Python 3"
    },
    "language_info": {
      "name": "python"
    }
  },
  "cells": [
    {
      "cell_type": "markdown",
      "metadata": {
        "id": "view-in-github",
        "colab_type": "text"
      },
      "source": [
        "<a href=\"https://colab.research.google.com/github/alexgshaw/vol3project2/blob/main/markov_text.ipynb\" target=\"_parent\"><img src=\"https://colab.research.google.com/assets/colab-badge.svg\" alt=\"Open In Colab\"/></a>"
      ]
    },
    {
      "cell_type": "code",
      "metadata": {
        "colab": {
          "base_uri": "https://localhost:8080/"
        },
        "id": "gs1A-jop1zyT",
        "outputId": "5b818714-d053-4cd2-df57-19be7a08a53d"
      },
      "source": [
        "%cd drive/MyDrive/Volume\\ 3\\ Project\\"
      ],
      "execution_count": 17,
      "outputs": [
        {
          "output_type": "stream",
          "text": [
            "/content/drive/.shortcut-targets-by-id/1qfjYewcGi6r6KzbTtRd8TgzGWg2JP76j/Volume 3 Project\n"
          ],
          "name": "stdout"
        }
      ]
    },
    {
      "cell_type": "code",
      "metadata": {
        "id": "yjDIEFWOxJhi"
      },
      "source": [
        "import numpy as np\n",
        "import pandas as pd\n",
        "from matplotlib import pyplot as plt, rcParams"
      ],
      "execution_count": 46,
      "outputs": []
    },
    {
      "cell_type": "code",
      "metadata": {
        "id": "iZlR95L2yqZS"
      },
      "source": [
        "rcParams['figure.figsize'] = (8,5)\n",
        "rcParams['figure.dpi'] = 100"
      ],
      "execution_count": 47,
      "outputs": []
    },
    {
      "cell_type": "code",
      "metadata": {
        "id": "b1hDGSWXysjq"
      },
      "source": [
        "filename = 'clean_lyrics.txt'\n",
        "with open(filename) as file:\n",
        "    lyrics = file.read().split()"
      ],
      "execution_count": 59,
      "outputs": []
    },
    {
      "cell_type": "code",
      "metadata": {
        "id": "Ne9OWAIq2loB"
      },
      "source": [
        "pairs = list(zip(lyrics[:-1], lyrics[1:]))"
      ],
      "execution_count": 60,
      "outputs": []
    },
    {
      "cell_type": "code",
      "metadata": {
        "id": "TVcixIcZ2zAp"
      },
      "source": [
        "word_dict = {}\n",
        "for word1, word2 in pairs:\n",
        "    if word1 in word_dict.keys():\n",
        "        word_dict[word1].append(word2)\n",
        "    else:\n",
        "        word_dict[word1] = [word2]"
      ],
      "execution_count": 61,
      "outputs": []
    },
    {
      "cell_type": "code",
      "metadata": {
        "id": "KbYuz03a33h2"
      },
      "source": [
        "# Find all potential start words and pick a random one\n",
        "start_words = [word for word in lyrics if (word[0].upper() == word[0]) and word not in stop_words]"
      ],
      "execution_count": 62,
      "outputs": []
    },
    {
      "cell_type": "code",
      "metadata": {
        "id": "1DuQTRY13-z3"
      },
      "source": [
        "stop_words = {\n",
        "    'PERIOD': '.',\n",
        "    'EXCLAMATION': '!',\n",
        "    'QUESTION': '?',\n",
        "    'SEMI': ';',\n",
        "    'END': '',\n",
        "}\n",
        "\n",
        "def generate_text(start_word):\n",
        "    \"\"\"Generates text.\"\"\"\n",
        "    sentence = [start_word]\n",
        "    word = start_word\n",
        "    while True:\n",
        "        word = np.random.choice(word_dict[word])\n",
        "        if word in stop_words:\n",
        "            sentence.append(stop_words[word])\n",
        "            if word == 'END':\n",
        "                break\n",
        "        else:\n",
        "            sentence.append(' ' + word)\n",
        "\n",
        "\n",
        "    return ''.join(sentence)"
      ],
      "execution_count": 63,
      "outputs": []
    },
    {
      "cell_type": "code",
      "metadata": {
        "colab": {
          "base_uri": "https://localhost:8080/",
          "height": 358
        },
        "id": "XaMzobTB5ZMv",
        "outputId": "80cc0582-1917-46ad-f9a6-159f047b3449"
      },
      "source": [
        "start_word = np.random.choice(start_words)\n",
        "generate_text(start_word)"
      ],
      "execution_count": 64,
      "outputs": [
        {
          "output_type": "execute_result",
          "data": {
            "application/vnd.google.colaboratory.intrinsic+json": {
              "type": "string"
            },
            "text/plain": [
              "'Which with lively praise Our souls with my toilsome way. For joys and pure in our shield Is far abroad To thee. Let us and for the prophets long wilt be faithful ones Thou in a pilgrim Im a wise heavnly beings God For that I am I know you in the Lord grant that is cold; Half its firmrooted bulwarks outstand the angels sayÂ Alleluia! All my head with us in gratitude And in the Anointed Descended from night is drawing nearer to teach you From dust arise! Oh wilt thou art so pleasant hours defend me? Gird up before the gospels joyful sound across the gospel blessing Ere the years oh glorious bloom Freed from wrong. Ever guard us to bestow. Now Ill sing to his holy name be Nearer nearer That which he suffered grief is before him home. Seal in distress. Guide me an endless day. Go search more will be our minds with love at my breast. Rise ye heavnly fire and wear; Come cast the gospels sound. His precious grain and sing Alleluia! Canst thou hast the riches of mankind. We gather up my dying world to the childrens adoration! Christ says In remembrance of worldly glory stain Your lofty splendor hell And when The time the emblems of our days now While fields and abide with fervent prayer Oh happy life and true Constant he sustaineth. The gospel too late. Teach me may prove the watchman cry. Sing the hearts and daughters come With the earth Have I ask thee This work my light Our hearts are springing; tho demons oppose. Father may learn to say can I have rest in thy might Till a shepherds care Let us in thy days shall be pure and mean and Lord Bringing forth To walk Along our ransomed throng. In dread Had he trusted In distant sceneone step we receive eternally In the gospels sound than life shall sing an end to bestow And within the skies; Beautiful robes of the end to await us forgive another and daughters Lord To serve thee. To shed his richest blessings unmeasured my trust his word Well grow Nor thorns. In remembrance of thee is near Guide us each heart. Yea the beauty and testify Ye valleys wide The wondrous words of Saints may With its rays Are mocked on the emblems we are waiting soul though small and be like the world is well I ask of truth restored Again prepared Far across the nations Are you From grim confusions awful gloom; Go to thee and find our gaze To pay the valleys fair.'"
            ]
          },
          "metadata": {
            "tags": []
          },
          "execution_count": 64
        }
      ]
    },
    {
      "cell_type": "code",
      "metadata": {
        "id": "vKEZ_bFYAT8-"
      },
      "source": [
        ""
      ],
      "execution_count": null,
      "outputs": []
    }
  ]
}