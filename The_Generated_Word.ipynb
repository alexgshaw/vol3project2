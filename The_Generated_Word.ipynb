{
  "nbformat": 4,
  "nbformat_minor": 0,
  "metadata": {
    "colab": {
      "name": "The Generated Word.ipynb",
      "provenance": [],
      "authorship_tag": "ABX9TyMrnw2SWtmNiJUNsWVbHsOI",
      "include_colab_link": true
    },
    "kernelspec": {
      "name": "python3",
      "display_name": "Python 3"
    },
    "language_info": {
      "name": "python"
    }
  },
  "cells": [
    {
      "cell_type": "markdown",
      "metadata": {
        "id": "view-in-github",
        "colab_type": "text"
      },
      "source": [
        "<a href=\"https://colab.research.google.com/github/alexgshaw/vol3project2/blob/main/The_Generated_Word.ipynb\" target=\"_parent\"><img src=\"https://colab.research.google.com/assets/colab-badge.svg\" alt=\"Open In Colab\"/></a>"
      ]
    },
    {
      "cell_type": "markdown",
      "metadata": {
        "id": "4LW1zM_R88ig"
      },
      "source": [
        "Grant White, Johnson Merrell, Walker Hughes, Alex Shaw"
      ]
    },
    {
      "cell_type": "markdown",
      "metadata": {
        "id": "jYgq8VH08tBb"
      },
      "source": [
        "# Introduction\n",
        "\n",
        "Can we train a computer to write new church hymns? Our project is seeking to answer this question. We will be attempting to recreate both lyrics and music. In this draft we focus on text generation. \n",
        "\n",
        "Text generation has become a hot topic in the past decade, and has begun seeing great success in recent years. Applying these methods to song generation will be a new aspect to explore. Music generation has not seen the same amount of success as text generation, but is still an active field of research."
      ]
    },
    {
      "cell_type": "markdown",
      "metadata": {
        "id": "BR_ZnKQz95cQ"
      },
      "source": [
        "# Data Cleaning\n",
        "\n",
        "We will use the lyrics from all the Hymns of the Church of Jesus Christ of Latter-day Saints as well as the instrumental tracks. Both of these are available at www.churchofjesuschrist.org. There are 341 hymns available in English.\n",
        "\n",
        "The first step will be processing our data. This will be done in the following five steps:\n",
        "\n",
        "1. Split each word into it's own line.\n",
        "1. Remove verse numbers.\n",
        "1. Replace sentence-ending punctuation and end of songs with stop words.\n",
        "1. Remove all remaining punctuation.\n",
        "\n",
        "The code for data cleaning is given below."
      ]
    },
    {
      "cell_type": "code",
      "metadata": {
        "id": "6TGMuNc08mmx"
      },
      "source": [
        ""
      ],
      "execution_count": null,
      "outputs": []
    }
  ]
}